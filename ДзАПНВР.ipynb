{
  "nbformat": 4,
  "nbformat_minor": 0,
  "metadata": {
    "colab": {
      "name": "ДзАПНВР.ipynb",
      "provenance": [],
      "authorship_tag": "ABX9TyOMrw3mAZxXQme4cX0oN8nj",
      "include_colab_link": true
    },
    "kernelspec": {
      "name": "python3",
      "display_name": "Python 3"
    }
  },
  "cells": [
    {
      "cell_type": "markdown",
      "metadata": {
        "id": "view-in-github",
        "colab_type": "text"
      },
      "source": [
        "<a href=\"https://colab.research.google.com/github/Anna172/Python/blob/master/%D0%94%D0%B7%D0%90%D0%9F%D0%9D%D0%92%D0%A0.ipynb\" target=\"_parent\"><img src=\"https://colab.research.google.com/assets/colab-badge.svg\" alt=\"Open In Colab\"/></a>"
      ]
    },
    {
      "cell_type": "markdown",
      "metadata": {
        "id": "E1JMrK-GYChb",
        "colab_type": "text"
      },
      "source": [
        "# **Power** **Spectrum**\n",
        "Home task №1\n"
      ]
    },
    {
      "cell_type": "markdown",
      "metadata": {
        "id": "K9oYO1LbXOk3",
        "colab_type": "text"
      },
      "source": [
        "Анна Трушникова ББИ172\n"
      ]
    },
    {
      "cell_type": "markdown",
      "metadata": {
        "id": "aHXGGo3Ibnpo",
        "colab_type": "text"
      },
      "source": [
        "# Описание данных"
      ]
    },
    {
      "cell_type": "markdown",
      "metadata": {
        "colab_type": "text",
        "id": "PGX0NwTkbV6d"
      },
      "source": [
        "Источник:\n",
        "https://www.federalreserve.gov/datadownload/Download.aspx?rel=H10&series=a3220d269bb3c9c5e2fffa49160c8cdf&filetype=csv&label=include&layout=seriescolumn&lastObs=10\n",
        "\n",
        "Описание:\n",
        "Я взяла данные по валютному курсу ДАНИИ (KRONER / US $) за последние 10 лет\n",
        "\n",
        "Bilateral exchange rate data are updated every Monday at 4:15 p.m. Data are available up through Friday of the previous business week.\n",
        "\n",
        "The following exchange rates are certified by the Federal Reserve Bank of New York for customs purposes as required by section 522 of the amended Tariff Act of 1930. These rates are also those required by the SEC for the integrated disclosure system for foreign private issuers. The information is based on data collected by the Federal Reserve Bank of New York from a sample of market participants.\n",
        "\n",
        "The data are noon buying rates in New York for cable transfers payable in foreign currencies.\n",
        "\n"
      ]
    },
    {
      "cell_type": "markdown",
      "metadata": {
        "id": "DQ6hObYQf9U_",
        "colab_type": "text"
      },
      "source": [
        "# Загрузка данных"
      ]
    },
    {
      "cell_type": "code",
      "metadata": {
        "id": "NIAqO9NRXXUa",
        "colab_type": "code",
        "colab": {}
      },
      "source": [
        "import pandas as pd\n",
        "import numpy as np\n",
        "import matplotlib.pyplot as plt\n",
        "import seaborn as sns\n",
        "from sklearn.linear_model import LinearRegression\n",
        "import math\n",
        "\n",
        "flatui = [\"#41b6c4\", \"#9ecae1\", \"#f768a1\", \"#c994c7\", \"#8c6bb1\", \"#41b6c4\"]\n",
        "sns.set(style='ticks', palette=sns.color_palette(flatui))"
      ],
      "execution_count": 0,
      "outputs": []
    },
    {
      "cell_type": "code",
      "metadata": {
        "id": "AMv8wa87gg5B",
        "colab_type": "code",
        "colab": {}
      },
      "source": [
        "obs = pd.read_csv(\"FRB_H10.csv\", parse_dates=['date'], na_values='ND')"
      ],
      "execution_count": 0,
      "outputs": []
    },
    {
      "cell_type": "code",
      "metadata": {
        "id": "RP6meyFOgjeZ",
        "colab_type": "code",
        "outputId": "0b043baa-c6b3-40e6-ad25-2001fefc6991",
        "colab": {
          "base_uri": "https://localhost:8080/",
          "height": 35
        }
      },
      "source": [
        "obs.shape"
      ],
      "execution_count": 60,
      "outputs": [
        {
          "output_type": "execute_result",
          "data": {
            "text/plain": [
              "(12263, 2)"
            ]
          },
          "metadata": {
            "tags": []
          },
          "execution_count": 60
        }
      ]
    },
    {
      "cell_type": "code",
      "metadata": {
        "id": "uNMiIxOsgn_3",
        "colab_type": "code",
        "outputId": "2b8aa76d-9f11-4670-c2b4-5b2cf59df382",
        "colab": {
          "base_uri": "https://localhost:8080/",
          "height": 202
        }
      },
      "source": [
        "obs.head()"
      ],
      "execution_count": 61,
      "outputs": [
        {
          "output_type": "execute_result",
          "data": {
            "text/html": [
              "<div>\n",
              "<style scoped>\n",
              "    .dataframe tbody tr th:only-of-type {\n",
              "        vertical-align: middle;\n",
              "    }\n",
              "\n",
              "    .dataframe tbody tr th {\n",
              "        vertical-align: top;\n",
              "    }\n",
              "\n",
              "    .dataframe thead th {\n",
              "        text-align: right;\n",
              "    }\n",
              "</style>\n",
              "<table border=\"1\" class=\"dataframe\">\n",
              "  <thead>\n",
              "    <tr style=\"text-align: right;\">\n",
              "      <th></th>\n",
              "      <th>date</th>\n",
              "      <th>rate</th>\n",
              "    </tr>\n",
              "  </thead>\n",
              "  <tbody>\n",
              "    <tr>\n",
              "      <th>0</th>\n",
              "      <td>1973-01-01</td>\n",
              "      <td>NaN</td>\n",
              "    </tr>\n",
              "    <tr>\n",
              "      <th>1</th>\n",
              "      <td>1973-01-02</td>\n",
              "      <td>6.8481</td>\n",
              "    </tr>\n",
              "    <tr>\n",
              "      <th>2</th>\n",
              "      <td>1973-01-03</td>\n",
              "      <td>6.8906</td>\n",
              "    </tr>\n",
              "    <tr>\n",
              "      <th>3</th>\n",
              "      <td>1973-01-04</td>\n",
              "      <td>6.9001</td>\n",
              "    </tr>\n",
              "    <tr>\n",
              "      <th>4</th>\n",
              "      <td>1973-01-05</td>\n",
              "      <td>6.9001</td>\n",
              "    </tr>\n",
              "  </tbody>\n",
              "</table>\n",
              "</div>"
            ],
            "text/plain": [
              "        date    rate\n",
              "0 1973-01-01     NaN\n",
              "1 1973-01-02  6.8481\n",
              "2 1973-01-03  6.8906\n",
              "3 1973-01-04  6.9001\n",
              "4 1973-01-05  6.9001"
            ]
          },
          "metadata": {
            "tags": []
          },
          "execution_count": 61
        }
      ]
    },
    {
      "cell_type": "code",
      "metadata": {
        "id": "SJGSF64mgqjp",
        "colab_type": "code",
        "outputId": "9b2082d8-6a1e-467f-cda1-33a37a1d1521",
        "colab": {
          "base_uri": "https://localhost:8080/",
          "height": 69
        }
      },
      "source": [
        "obs.dtypes"
      ],
      "execution_count": 62,
      "outputs": [
        {
          "output_type": "execute_result",
          "data": {
            "text/plain": [
              "date    datetime64[ns]\n",
              "rate           float64\n",
              "dtype: object"
            ]
          },
          "metadata": {
            "tags": []
          },
          "execution_count": 62
        }
      ]
    },
    {
      "cell_type": "code",
      "metadata": {
        "id": "1B8Xhrr9cceP",
        "colab_type": "code",
        "outputId": "56d3a36b-d2e0-4159-90cc-7009e35b1f2a",
        "colab": {
          "base_uri": "https://localhost:8080/",
          "height": 35
        }
      },
      "source": [
        "#obs_new = obs.fillna(value=8.0)\n",
        "obs_new = obs.dropna()\n",
        "obs_new.shape"
      ],
      "execution_count": 63,
      "outputs": [
        {
          "output_type": "execute_result",
          "data": {
            "text/plain": [
              "(11796, 2)"
            ]
          },
          "metadata": {
            "tags": []
          },
          "execution_count": 63
        }
      ]
    },
    {
      "cell_type": "code",
      "metadata": {
        "id": "SR1KcrARc0RH",
        "colab_type": "code",
        "outputId": "84cf424e-0e59-4971-c269-ad6a161e05a2",
        "colab": {
          "base_uri": "https://localhost:8080/",
          "height": 285
        }
      },
      "source": [
        "sns.lineplot(x='date', y='rate', data=obs_new);"
      ],
      "execution_count": 64,
      "outputs": [
        {
          "output_type": "display_data",
          "data": {
            "image/png": "[encoded data removed]",
            "text/plain": [
              "<Figure size 432x288 with 1 Axes>"
            ]
          },
          "metadata": {
            "tags": []
          }
        }
      ]
    },
    {
      "cell_type": "code",
      "metadata": {
        "id": "qkwtizUpc53h",
        "colab_type": "code",
        "colab": {}
      },
      "source": [
        "fft_coef = np.fft.rfft(obs_new['rate'])"
      ],
      "execution_count": 0,
      "outputs": []
    },
    {
      "cell_type": "code",
      "metadata": {
        "id": "_ssfnTtTewjy",
        "colab_type": "code",
        "colab": {}
      },
      "source": [
        "ps_coef = np.abs(fft_coef)**2"
      ],
      "execution_count": 0,
      "outputs": []
    },
    {
      "cell_type": "code",
      "metadata": {
        "id": "5ILtYsXefCUy",
        "colab_type": "code",
        "outputId": "6b4a657d-fb56-42a7-fff7-9f1a33556024",
        "colab": {
          "base_uri": "https://localhost:8080/",
          "height": 291
        }
      },
      "source": [
        "plt.loglog(ps_coef)"
      ],
      "execution_count": 67,
      "outputs": [
        {
          "output_type": "execute_result",
          "data": {
            "text/plain": [
              "[<matplotlib.lines.Line2D at 0x7ff1fa536588>]"
            ]
          },
          "metadata": {
            "tags": []
          },
          "execution_count": 67
        },
        {
          "output_type": "display_data",
          "data": {
            "image/png": "[encoded data removed]",
            "text/plain": [
              "<Figure size 432x288 with 1 Axes>"
            ]
          },
          "metadata": {
            "tags": []
          }
        }
      ]
    },
    {
      "cell_type": "code",
      "metadata": {
        "id": "TP7_PgT9ZXqv",
        "colab_type": "code",
        "colab": {
          "base_uri": "https://localhost:8080/",
          "height": 52
        },
        "outputId": "95341544-1004-4435-cf01-8f834f9049d2"
      },
      "source": [
        "x = np.arange(1, 5900)\n",
        "x_log = np.log(x).reshape(-1, 1)\n",
        "y_log = np.log(ps_coef)\n",
        "model = LinearRegression().fit(x_log, y_log)\n",
        "print('intercept:', model.intercept_)\n",
        "print('slope:', model.coef_)\n",
        "#y_pred = model.intercept_ + model.coef_ * x"
      ],
      "execution_count": 68,
      "outputs": [
        {
          "output_type": "stream",
          "text": [
            "intercept: 16.30446205495282\n",
            "slope: [-1.77820285]\n"
          ],
          "name": "stdout"
        }
      ]
    },
    {
      "cell_type": "code",
      "metadata": {
        "id": "X978OSOMU696",
        "colab_type": "code",
        "colab": {}
      },
      "source": [
        "y_pred = model.predict(x_log)"
      ],
      "execution_count": 0,
      "outputs": []
    },
    {
      "cell_type": "code",
      "metadata": {
        "id": "p4inksoHYgBJ",
        "colab_type": "code",
        "outputId": "e63472da-06cd-4d02-9603-6c1cf954255a",
        "colab": {
          "base_uri": "https://localhost:8080/",
          "height": 268
        }
      },
      "source": [
        "\n",
        "plt.plot(x_log, y_log)\n",
        "plt.plot(x_log, y_pred, c='black')\n",
        "plt.show()"
      ],
      "execution_count": 70,
      "outputs": [
        {
          "output_type": "display_data",
          "data": {
            "image/png": "[encoded data removed]",
            "text/plain": [
              "<Figure size 432x288 with 1 Axes>"
            ]
          },
          "metadata": {
            "tags": []
          }
        }
      ]
    },
    {
      "cell_type": "code",
      "metadata": {
        "id": "kw0THvJYeTxz",
        "colab_type": "code",
        "colab": {}
      },
      "source": [
        "Это розовый шум"
      ],
      "execution_count": 0,
      "outputs": []
    }
  ]
}