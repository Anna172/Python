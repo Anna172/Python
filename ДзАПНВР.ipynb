{
  "nbformat": 4,
  "nbformat_minor": 0,
  "metadata": {
    "colab": {
      "name": "ДзАПНВР.ipynb",
      "provenance": [],
      "authorship_tag": "ABX9TyPaMjqWl2/uMPb1eIhflah7",
      "include_colab_link": true
    },
    "kernelspec": {
      "name": "python3",
      "display_name": "Python 3"
    }
  },
  "cells": [
    {
      "cell_type": "markdown",
      "metadata": {
        "id": "view-in-github",
        "colab_type": "text"
      },
      "source": [
        "<a href=\"https://colab.research.google.com/github/Anna172/Python/blob/master/%D0%94%D0%B7%D0%90%D0%9F%D0%9D%D0%92%D0%A0.ipynb\" target=\"_parent\"><img src=\"https://colab.research.google.com/assets/colab-badge.svg\" alt=\"Open In Colab\"/></a>"
      ]
    },
    {
      "cell_type": "markdown",
      "metadata": {
        "id": "E1JMrK-GYChb",
        "colab_type": "text"
      },
      "source": [
        "# **Power** **Spectrum**\n",
        "Home task №1\n"
      ]
    },
    {
      "cell_type": "markdown",
      "metadata": {
        "id": "K9oYO1LbXOk3",
        "colab_type": "text"
      },
      "source": [
        "Анна Трушникова ББИ172\n"
      ]
    },
    {
      "cell_type": "markdown",
      "metadata": {
        "id": "aHXGGo3Ibnpo",
        "colab_type": "text"
      },
      "source": [
        "# Описание данных"
      ]
    },
    {
      "cell_type": "markdown",
      "metadata": {
        "colab_type": "text",
        "id": "PGX0NwTkbV6d"
      },
      "source": [
        "Источник:\n",
        "https://www.federalreserve.gov/datadownload/Download.aspx?rel=H10&series=a3220d269bb3c9c5e2fffa49160c8cdf&filetype=csv&label=include&layout=seriescolumn&lastObs=10\n",
        "\n",
        "Описание:\n",
        "Я взяла данные по валютному курсу ДАНИИ (KRONER / US $) за последние 10 лет\n",
        "\n",
        "Bilateral exchange rate data are updated every Monday at 4:15 p.m. Data are available up through Friday of the previous business week.\n",
        "\n",
        "The following exchange rates are certified by the Federal Reserve Bank of New York for customs purposes as required by section 522 of the amended Tariff Act of 1930. These rates are also those required by the SEC for the integrated disclosure system for foreign private issuers. The information is based on data collected by the Federal Reserve Bank of New York from a sample of market participants.\n",
        "\n",
        "The data are noon buying rates in New York for cable transfers payable in foreign currencies.\n",
        "\n"
      ]
    },
    {
      "cell_type": "markdown",
      "metadata": {
        "id": "DQ6hObYQf9U_",
        "colab_type": "text"
      },
      "source": [
        "# Загрузка данных"
      ]
    },
    {
      "cell_type": "code",
      "metadata": {
        "id": "NIAqO9NRXXUa",
        "colab_type": "code",
        "colab": {}
      },
      "source": [
        "import pandas as pd\n",
        "import numpy as np\n",
        "import matplotlib.pyplot as plt\n",
        "import seaborn as sns\n",
        "from sklearn.linear_model import LinearRegression\n",
        "import math\n",
        "\n",
        "flatui = [\"#41b6c4\", \"#9ecae1\", \"#f768a1\", \"#c994c7\", \"#8c6bb1\", \"#41b6c4\"]\n",
        "sns.set(style='ticks', palette=sns.color_palette(flatui))"
      ],
      "execution_count": 0,
      "outputs": []
    },
    {
      "cell_type": "code",
      "metadata": {
        "id": "AMv8wa87gg5B",
        "colab_type": "code",
        "colab": {}
      },
      "source": [
        "obs = pd.read_csv(\"FRB_H10.csv\", parse_dates=['date'], na_values='ND')"
      ],
      "execution_count": 0,
      "outputs": []
    },
    {
      "cell_type": "code",
      "metadata": {
        "id": "RP6meyFOgjeZ",
        "colab_type": "code",
        "outputId": "e9a75fe7-9658-497a-e1ca-3137873d7e98",
        "colab": {
          "base_uri": "https://localhost:8080/",
          "height": 35
        }
      },
      "source": [
        "obs.shape"
      ],
      "execution_count": 0,
      "outputs": [
        {
          "output_type": "execute_result",
          "data": {
            "text/plain": [
              "(12263, 2)"
            ]
          },
          "metadata": {
            "tags": []
          },
          "execution_count": 92
        }
      ]
    },
    {
      "cell_type": "code",
      "metadata": {
        "id": "uNMiIxOsgn_3",
        "colab_type": "code",
        "outputId": "918451a4-5f59-4877-eef2-3b33f1591233",
        "colab": {
          "base_uri": "https://localhost:8080/",
          "height": 202
        }
      },
      "source": [
        "obs.head()"
      ],
      "execution_count": 0,
      "outputs": [
        {
          "output_type": "execute_result",
          "data": {
            "text/html": [
              "<div>\n",
              "<style scoped>\n",
              "    .dataframe tbody tr th:only-of-type {\n",
              "        vertical-align: middle;\n",
              "    }\n",
              "\n",
              "    .dataframe tbody tr th {\n",
              "        vertical-align: top;\n",
              "    }\n",
              "\n",
              "    .dataframe thead th {\n",
              "        text-align: right;\n",
              "    }\n",
              "</style>\n",
              "<table border=\"1\" class=\"dataframe\">\n",
              "  <thead>\n",
              "    <tr style=\"text-align: right;\">\n",
              "      <th></th>\n",
              "      <th>date</th>\n",
              "      <th>rate</th>\n",
              "    </tr>\n",
              "  </thead>\n",
              "  <tbody>\n",
              "    <tr>\n",
              "      <th>0</th>\n",
              "      <td>1973-01-01</td>\n",
              "      <td>NaN</td>\n",
              "    </tr>\n",
              "    <tr>\n",
              "      <th>1</th>\n",
              "      <td>1973-01-02</td>\n",
              "      <td>6.8481</td>\n",
              "    </tr>\n",
              "    <tr>\n",
              "      <th>2</th>\n",
              "      <td>1973-01-03</td>\n",
              "      <td>6.8906</td>\n",
              "    </tr>\n",
              "    <tr>\n",
              "      <th>3</th>\n",
              "      <td>1973-01-04</td>\n",
              "      <td>6.9001</td>\n",
              "    </tr>\n",
              "    <tr>\n",
              "      <th>4</th>\n",
              "      <td>1973-01-05</td>\n",
              "      <td>6.9001</td>\n",
              "    </tr>\n",
              "  </tbody>\n",
              "</table>\n",
              "</div>"
            ],
            "text/plain": [
              "        date    rate\n",
              "0 1973-01-01     NaN\n",
              "1 1973-01-02  6.8481\n",
              "2 1973-01-03  6.8906\n",
              "3 1973-01-04  6.9001\n",
              "4 1973-01-05  6.9001"
            ]
          },
          "metadata": {
            "tags": []
          },
          "execution_count": 93
        }
      ]
    },
    {
      "cell_type": "code",
      "metadata": {
        "id": "SJGSF64mgqjp",
        "colab_type": "code",
        "outputId": "dabc4619-8139-4fd2-e94a-e86982251454",
        "colab": {
          "base_uri": "https://localhost:8080/",
          "height": 69
        }
      },
      "source": [
        "obs.dtypes"
      ],
      "execution_count": 0,
      "outputs": [
        {
          "output_type": "execute_result",
          "data": {
            "text/plain": [
              "date    datetime64[ns]\n",
              "rate           float64\n",
              "dtype: object"
            ]
          },
          "metadata": {
            "tags": []
          },
          "execution_count": 94
        }
      ]
    },
    {
      "cell_type": "code",
      "metadata": {
        "id": "1B8Xhrr9cceP",
        "colab_type": "code",
        "outputId": "5f907b81-9f8d-4053-9635-660b8487b275",
        "colab": {
          "base_uri": "https://localhost:8080/",
          "height": 35
        }
      },
      "source": [
        "#obs_new = obs.fillna(value=8.0)\n",
        "obs_new = obs.dropna()\n",
        "obs_new.shape"
      ],
      "execution_count": 0,
      "outputs": [
        {
          "output_type": "execute_result",
          "data": {
            "text/plain": [
              "(11796, 2)"
            ]
          },
          "metadata": {
            "tags": []
          },
          "execution_count": 95
        }
      ]
    },
    {
      "cell_type": "code",
      "metadata": {
        "id": "SR1KcrARc0RH",
        "colab_type": "code",
        "outputId": "b9b195cb-b057-4f79-bbe9-04a862629855",
        "colab": {
          "base_uri": "https://localhost:8080/",
          "height": 285
        }
      },
      "source": [
        "sns.lineplot(x='date', y='rate', data=obs_new);"
      ],
      "execution_count": 0,
      "outputs": [
        {
          "output_type": "display_data",
          "data": {
            "image/png": "[encoded data removed]",
            "text/plain": [
              "<Figure size 432x288 with 1 Axes>"
            ]
          },
          "metadata": {
            "tags": []
          }
        }
      ]
    },
    {
      "cell_type": "code",
      "metadata": {
        "id": "qkwtizUpc53h",
        "colab_type": "code",
        "colab": {}
      },
      "source": [
        "fft_coef = np.fft.rfft(obs_new['rate'])"
      ],
      "execution_count": 0,
      "outputs": []
    },
    {
      "cell_type": "code",
      "metadata": {
        "id": "uF59L7J4q9K9",
        "colab_type": "code",
        "outputId": "a9427ae5-79fc-4864-9cd9-9852444e011e",
        "colab": {
          "base_uri": "https://localhost:8080/",
          "height": 87
        }
      },
      "source": [
        "fft_coef"
      ],
      "execution_count": 0,
      "outputs": [
        {
          "output_type": "execute_result",
          "data": {
            "text/plain": [
              "array([ 7.77566351e+04+0.00000000e+00j, -2.02502727e+03-4.28339243e+03j,\n",
              "       -2.30569647e+03-1.09866590e+03j, ...,\n",
              "        8.67069697e-01-3.61690906e+00j, -1.10287627e+00-5.26248326e-01j,\n",
              "        2.66070000e+00+0.00000000e+00j])"
            ]
          },
          "metadata": {
            "tags": []
          },
          "execution_count": 98
        }
      ]
    },
    {
      "cell_type": "code",
      "metadata": {
        "id": "_ssfnTtTewjy",
        "colab_type": "code",
        "colab": {}
      },
      "source": [
        "ps_coef = np.abs(fft_coef)**2"
      ],
      "execution_count": 0,
      "outputs": []
    },
    {
      "cell_type": "code",
      "metadata": {
        "id": "riYYok62XWSk",
        "colab_type": "code",
        "outputId": "34ff4237-666e-47da-b1a6-eaedb423d853",
        "colab": {
          "base_uri": "https://localhost:8080/",
          "height": 35
        }
      },
      "source": [
        "ps_coef.shape"
      ],
      "execution_count": 0,
      "outputs": [
        {
          "output_type": "execute_result",
          "data": {
            "text/plain": [
              "(5899,)"
            ]
          },
          "metadata": {
            "tags": []
          },
          "execution_count": 100
        }
      ]
    },
    {
      "cell_type": "code",
      "metadata": {
        "id": "8FkelS_cKQ8d",
        "colab_type": "code",
        "outputId": "175acf6e-421c-4a8e-fee6-034cd8f33a53",
        "colab": {
          "base_uri": "https://localhost:8080/",
          "height": 104
        }
      },
      "source": [
        "print(ps_coef[:20])"
      ],
      "execution_count": 0,
      "outputs": [
        {
          "output_type": "stream",
          "text": [
            "[6.04609430e+09 2.24481862e+07 6.52330297e+06 4.63033289e+07\n",
            " 2.70888103e+06 7.95258049e+06 8.28560051e+06 1.08607442e+06\n",
            " 1.66362077e+06 9.62199710e+05 1.48457739e+05 3.00341882e+06\n",
            " 2.07383767e+06 1.11713293e+04 3.80348831e+05 8.12441907e+05\n",
            " 1.89768571e+05 8.66625279e+03 3.45557357e+04 1.07585702e+05]\n"
          ],
          "name": "stdout"
        }
      ]
    },
    {
      "cell_type": "code",
      "metadata": {
        "id": "nI90QVAjMLuu",
        "colab_type": "code",
        "outputId": "0030e163-ee5a-4e7d-96cf-673c871f8300",
        "colab": {
          "base_uri": "https://localhost:8080/",
          "height": 35
        }
      },
      "source": [
        "type(ps_coef[1])"
      ],
      "execution_count": 0,
      "outputs": [
        {
          "output_type": "execute_result",
          "data": {
            "text/plain": [
              "numpy.float64"
            ]
          },
          "metadata": {
            "tags": []
          },
          "execution_count": 102
        }
      ]
    },
    {
      "cell_type": "code",
      "metadata": {
        "id": "4qZzgC5aJk5V",
        "colab_type": "code",
        "outputId": "6e5284ed-b131-43f2-8be9-7c6b80763818",
        "colab": {
          "base_uri": "https://localhost:8080/",
          "height": 297
        }
      },
      "source": [
        "plt.plot(ps_coef[:20])"
      ],
      "execution_count": 0,
      "outputs": [
        {
          "output_type": "execute_result",
          "data": {
            "text/plain": [
              "[<matplotlib.lines.Line2D at 0x7fcb1c928860>]"
            ]
          },
          "metadata": {
            "tags": []
          },
          "execution_count": 103
        },
        {
          "output_type": "display_data",
          "data": {
            "image/png": "[encoded data removed]",
            "text/plain": [
              "<Figure size 432x288 with 1 Axes>"
            ]
          },
          "metadata": {
            "tags": []
          }
        }
      ]
    },
    {
      "cell_type": "code",
      "metadata": {
        "id": "5ILtYsXefCUy",
        "colab_type": "code",
        "outputId": "aa2d1790-ffe6-4b94-b25a-0b9fa4ce2ecd",
        "colab": {
          "base_uri": "https://localhost:8080/",
          "height": 291
        }
      },
      "source": [
        "plt.loglog(ps_coef)"
      ],
      "execution_count": 0,
      "outputs": [
        {
          "output_type": "execute_result",
          "data": {
            "text/plain": [
              "[<matplotlib.lines.Line2D at 0x7fcb1c8b0e48>]"
            ]
          },
          "metadata": {
            "tags": []
          },
          "execution_count": 104
        },
        {
          "output_type": "display_data",
          "data": {
            "image/png": "[encoded data removed]",
            "text/plain": [
              "<Figure size 432x288 with 1 Axes>"
            ]
          },
          "metadata": {
            "tags": []
          }
        }
      ]
    },
    {
      "cell_type": "code",
      "metadata": {
        "id": "TP7_PgT9ZXqv",
        "colab_type": "code",
        "colab": {}
      },
      "source": [
        "x = np.linspace(0.3, 10, 5899)\n",
        "#x=np.arange(1,5900)\n",
        "x_log = np.log(x).reshape(-1, 1)\n",
        "y_log = np.log(ps_coef).reshape(-1, 1)\n",
        "model = LinearRegression().fit(x_log, y_log)\n",
        "print('intercept:', model.intercept_)\n",
        "print('slope:', model.coef_)\n",
        "#y_pred = model.intercept_ + model.coef_ * x"
      ],
      "execution_count": 0,
      "outputs": []
    },
    {
      "cell_type": "code",
      "metadata": {
        "id": "X978OSOMU696",
        "colab_type": "code",
        "colab": {}
      },
      "source": [
        "y_pred = model.predict(x_log)\n",
        "\n",
        "#_log = np.ravel(y_pred)\n",
        "y_log.shape\n",
        "y_pred.shape"
      ],
      "execution_count": 0,
      "outputs": []
    },
    {
      "cell_type": "code",
      "metadata": {
        "id": "p4inksoHYgBJ",
        "colab_type": "code",
        "outputId": "f2c8e78f-abba-4264-cc2c-da89040620bf",
        "colab": {
          "base_uri": "https://localhost:8080/",
          "height": 274
        }
      },
      "source": [
        "plt.plot(x_log, y_pred, c='black')\n",
        "plt.loglog(x_log, y_log)\n",
        "plt.show()"
      ],
      "execution_count": 0,
      "outputs": [
        {
          "output_type": "display_data",
          "data": {
            "image/png": "[encoded data removed]",
            "text/plain": [
              "<Figure size 432x288 with 1 Axes>"
            ]
          },
          "metadata": {
            "tags": []
          }
        }
      ]
    },
    {
      "cell_type": "code",
      "metadata": {
        "id": "k478oh5oJki_",
        "colab_type": "code",
        "colab": {}
      },
      "source": [
        ""
      ],
      "execution_count": 0,
      "outputs": []
    }
  ]
}