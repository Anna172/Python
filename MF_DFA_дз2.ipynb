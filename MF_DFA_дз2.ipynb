{
  "nbformat": 4,
  "nbformat_minor": 0,
  "metadata": {
    "colab": {
      "name": "MF_DFA_template.ipynb",
      "provenance": [],
      "collapsed_sections": [],
      "toc_visible": true,
      "include_colab_link": true
    },
    "kernelspec": {
      "name": "python3",
      "display_name": "Python 3"
    },
    "widgets": {
      "application/vnd.jupyter.widget-state+json": {
        "0ca70576e3824658b3c8d174d2d7fd72": {
          "model_module": "@jupyter-widgets/controls",
          "model_name": "HBoxModel",
          "state": {
            "_view_name": "HBoxView",
            "_dom_classes": [],
            "_model_name": "HBoxModel",
            "_view_module": "@jupyter-widgets/controls",
            "_model_module_version": "1.5.0",
            "_view_count": null,
            "_view_module_version": "1.5.0",
            "box_style": "",
            "layout": "IPY_MODEL_9c4829e6d0ac431e9e6307c971db02b5",
            "_model_module": "@jupyter-widgets/controls",
            "children": [
              "IPY_MODEL_dfd7ef5cfe404548989a8ef30b64523c",
              "IPY_MODEL_a2719f0c6c4b42c79bd98f43efc0f775"
            ]
          }
        },
        "9c4829e6d0ac431e9e6307c971db02b5": {
          "model_module": "@jupyter-widgets/base",
          "model_name": "LayoutModel",
          "state": {
            "_view_name": "LayoutView",
            "grid_template_rows": null,
            "right": null,
            "justify_content": null,
            "_view_module": "@jupyter-widgets/base",
            "overflow": null,
            "_model_module_version": "1.2.0",
            "_view_count": null,
            "flex_flow": null,
            "width": null,
            "min_width": null,
            "border": null,
            "align_items": null,
            "bottom": null,
            "_model_module": "@jupyter-widgets/base",
            "top": null,
            "grid_column": null,
            "overflow_y": null,
            "overflow_x": null,
            "grid_auto_flow": null,
            "grid_area": null,
            "grid_template_columns": null,
            "flex": null,
            "_model_name": "LayoutModel",
            "justify_items": null,
            "grid_row": null,
            "max_height": null,
            "align_content": null,
            "visibility": null,
            "align_self": null,
            "height": null,
            "min_height": null,
            "padding": null,
            "grid_auto_rows": null,
            "grid_gap": null,
            "max_width": null,
            "order": null,
            "_view_module_version": "1.2.0",
            "grid_template_areas": null,
            "object_position": null,
            "object_fit": null,
            "grid_auto_columns": null,
            "margin": null,
            "display": null,
            "left": null
          }
        },
        "dfd7ef5cfe404548989a8ef30b64523c": {
          "model_module": "@jupyter-widgets/controls",
          "model_name": "FloatProgressModel",
          "state": {
            "_view_name": "ProgressView",
            "style": "IPY_MODEL_8fb9dbbf713542b5b456165f1b0e7127",
            "_dom_classes": [],
            "description": "Brownian motion: 100%",
            "_model_name": "FloatProgressModel",
            "bar_style": "success",
            "max": 5,
            "_view_module": "@jupyter-widgets/controls",
            "_model_module_version": "1.5.0",
            "value": 5,
            "_view_count": null,
            "_view_module_version": "1.5.0",
            "orientation": "horizontal",
            "min": 0,
            "description_tooltip": null,
            "_model_module": "@jupyter-widgets/controls",
            "layout": "IPY_MODEL_2ae9315b433f46b9ab87e571b0441fbd"
          }
        },
        "a2719f0c6c4b42c79bd98f43efc0f775": {
          "model_module": "@jupyter-widgets/controls",
          "model_name": "HTMLModel",
          "state": {
            "_view_name": "HTMLView",
            "style": "IPY_MODEL_57f7a26028f1479b94c27d90299c14ef",
            "_dom_classes": [],
            "description": "",
            "_model_name": "HTMLModel",
            "placeholder": "​",
            "_view_module": "@jupyter-widgets/controls",
            "_model_module_version": "1.5.0",
            "value": " 5/5 [01:14&lt;00:00, 14.81s/it]",
            "_view_count": null,
            "_view_module_version": "1.5.0",
            "description_tooltip": null,
            "_model_module": "@jupyter-widgets/controls",
            "layout": "IPY_MODEL_502f8cf937b64ad0b539ce92f4d91bae"
          }
        },
        "8fb9dbbf713542b5b456165f1b0e7127": {
          "model_module": "@jupyter-widgets/controls",
          "model_name": "ProgressStyleModel",
          "state": {
            "_view_name": "StyleView",
            "_model_name": "ProgressStyleModel",
            "description_width": "initial",
            "_view_module": "@jupyter-widgets/base",
            "_model_module_version": "1.5.0",
            "_view_count": null,
            "_view_module_version": "1.2.0",
            "bar_color": null,
            "_model_module": "@jupyter-widgets/controls"
          }
        },
        "2ae9315b433f46b9ab87e571b0441fbd": {
          "model_module": "@jupyter-widgets/base",
          "model_name": "LayoutModel",
          "state": {
            "_view_name": "LayoutView",
            "grid_template_rows": null,
            "right": null,
            "justify_content": null,
            "_view_module": "@jupyter-widgets/base",
            "overflow": null,
            "_model_module_version": "1.2.0",
            "_view_count": null,
            "flex_flow": null,
            "width": null,
            "min_width": null,
            "border": null,
            "align_items": null,
            "bottom": null,
            "_model_module": "@jupyter-widgets/base",
            "top": null,
            "grid_column": null,
            "overflow_y": null,
            "overflow_x": null,
            "grid_auto_flow": null,
            "grid_area": null,
            "grid_template_columns": null,
            "flex": null,
            "_model_name": "LayoutModel",
            "justify_items": null,
            "grid_row": null,
            "max_height": null,
            "align_content": null,
            "visibility": null,
            "align_self": null,
            "height": null,
            "min_height": null,
            "padding": null,
            "grid_auto_rows": null,
            "grid_gap": null,
            "max_width": null,
            "order": null,
            "_view_module_version": "1.2.0",
            "grid_template_areas": null,
            "object_position": null,
            "object_fit": null,
            "grid_auto_columns": null,
            "margin": null,
            "display": null,
            "left": null
          }
        },
        "57f7a26028f1479b94c27d90299c14ef": {
          "model_module": "@jupyter-widgets/controls",
          "model_name": "DescriptionStyleModel",
          "state": {
            "_view_name": "StyleView",
            "_model_name": "DescriptionStyleModel",
            "description_width": "",
            "_view_module": "@jupyter-widgets/base",
            "_model_module_version": "1.5.0",
            "_view_count": null,
            "_view_module_version": "1.2.0",
            "_model_module": "@jupyter-widgets/controls"
          }
        },
        "502f8cf937b64ad0b539ce92f4d91bae": {
          "model_module": "@jupyter-widgets/base",
          "model_name": "LayoutModel",
          "state": {
            "_view_name": "LayoutView",
            "grid_template_rows": null,
            "right": null,
            "justify_content": null,
            "_view_module": "@jupyter-widgets/base",
            "overflow": null,
            "_model_module_version": "1.2.0",
            "_view_count": null,
            "flex_flow": null,
            "width": null,
            "min_width": null,
            "border": null,
            "align_items": null,
            "bottom": null,
            "_model_module": "@jupyter-widgets/base",
            "top": null,
            "grid_column": null,
            "overflow_y": null,
            "overflow_x": null,
            "grid_auto_flow": null,
            "grid_area": null,
            "grid_template_columns": null,
            "flex": null,
            "_model_name": "LayoutModel",
            "justify_items": null,
            "grid_row": null,
            "max_height": null,
            "align_content": null,
            "visibility": null,
            "align_self": null,
            "height": null,
            "min_height": null,
            "padding": null,
            "grid_auto_rows": null,
            "grid_gap": null,
            "max_width": null,
            "order": null,
            "_view_module_version": "1.2.0",
            "grid_template_areas": null,
            "object_position": null,
            "object_fit": null,
            "grid_auto_columns": null,
            "margin": null,
            "display": null,
            "left": null
          }
        }
      }
    }
  },
  "cells": [
    {
      "cell_type": "markdown",
      "metadata": {
        "id": "view-in-github",
        "colab_type": "text"
      },
      "source": [
        "<a href=\"https://colab.research.google.com/github/Anna172/Python/blob/master/MF_DFA_%D0%B4%D0%B72.ipynb\" target=\"_parent\"><img src=\"https://colab.research.google.com/assets/colab-badge.svg\" alt=\"Open In Colab\"/></a>"
      ]
    },
    {
      "cell_type": "markdown",
      "metadata": {
        "id": "jTI0LXQA_uIq",
        "colab_type": "text"
      },
      "source": [
        "## Теория\n",
        "\n",
        "Пусть есть временной ряд из $N$ наблюдений:\n",
        "\n",
        "$$ \\{x_i\\} = (x_0, x_1, \\dots, x_{N-1}) $$\n",
        "\n",
        "1. Для исходного временного ряда $\\{x_i\\}$ строится временной ряд, приведенный к среднему $\\bar{x}$:\n",
        "  $$ \\bar{x} = \\frac{1}{N} \\sum_{i=1}^N x_i$$\n",
        "  \n",
        "  $$ \\tilde{x}_i = x_i - \\bar{x}$$\n",
        "  \n",
        "2. Из ряда $\\{\\tilde{x}_i\\}$ формируется глобальный профиль (кумулятивная сумма):\n",
        "\n",
        "  $$ Y(j) = \\sum_{i=1}^j \\tilde{x}_i,\\quad j = 0, 1, 2, \\dots, N-1$$\n",
        "\n",
        "3. Глобальный профиль разбивается на смежные отрезки $Y_v (j)$длиной $s$ с индексами $v = 0, 1, 2, \\dots, N_s-1$, где $ N_s = \\lfloor N/s \\rfloor$.\n",
        "\n",
        "  Так как длина ряда $N$ не всегда кратна выбранной шкале $s$, то в общем случае последний участок содержит число точек, меньше чем $s$. Для учета этого остатка следует повторить процедуру деления на сегменты, начиная с противоположного конца ряда. В результате полное число сегментов, имеющих длину $s$, составит $N_s = 2 \\lfloor N/s \\rfloor$.\n",
        "\n",
        "4.  Для каждого сегмента находим локальный тренд $y_{v,s}(j)$ (например, используя МНК) и его отклонение от флуктуационного профиля $Y(j)$\n",
        "\n",
        "  $$ \\tilde{Y}_v (j) = Y_v(j) - y_{v,s}(j)$$\n",
        "\n",
        "5. Дисперсия выборки $\\tilde{Y}_v (j)$ для каждого из сегментов:\n",
        "\n",
        "  $$ \\mu_v(j) = \\frac{1}{s} \\sum_{j=1}^s \\left(\\tilde{Y}_v (j) \\right)^2 $$\n",
        "\n",
        "6. Усредняем значения дисперсий на каждом шаге разбиения, строим флуктуационную функцию:\n",
        "\n",
        "  $$\n",
        "  F_q(s) = \\left( \\frac{1}{N_s} \\sum_{v=0}^{N_s - 1} (\\mu_v(j))^{\\frac{q}{2}}\\right)^{\\frac{1}{q}}\n",
        "  $$\n",
        "\n",
        "  В случае, если $q = 0$, изпользуется другая формула (см. [статью][Kantelhardt2008]):\n",
        "  $$\n",
        "  F_0(s) = \\exp\\left( \\frac{1}{2 N_s} \\sum_{v=0}^{N_s - 1} \\log(\\mu_v(j))\\right)\n",
        "  $$\n",
        "7. Повторяем шаги 3-6 для разных значений длины сегмента $s$.\n",
        "\n",
        "Если исследуемый временной ряд является самоподобным множеством, то $F_q(s)$ представляется степенной зависимостью:\n",
        "\n",
        "  $$ F_q(s) \\propto s^{H(q)}.$$\n",
        "\n",
        "[Kantelhardt2008]: <http://arxiv.org/abs/0804.0747>\n",
        "  \"Fractal and Multifractal Time Series\""
      ]
    },
    {
      "cell_type": "code",
      "metadata": {
        "id": "Ehw6OgEJ-CHK",
        "colab_type": "code",
        "outputId": "eb51ef1a-5b83-46a9-e406-197e371fa376",
        "colab": {
          "base_uri": "https://localhost:8080/",
          "height": 141
        }
      },
      "source": [
        "!pip install nolds"
      ],
      "execution_count": 1,
      "outputs": [
        {
          "output_type": "stream",
          "text": [
            "Collecting nolds\n",
            "  Downloading https://files.pythonhosted.org/packages/67/28/60d734bb74181f3a36d685c63b18481789fd54d6c25124662e7195e2d5ed/nolds-0.5.2-py2.py3-none-any.whl\n",
            "Requirement already satisfied: setuptools in /usr/local/lib/python3.6/dist-packages (from nolds) (47.1.1)\n",
            "Requirement already satisfied: numpy in /usr/local/lib/python3.6/dist-packages (from nolds) (1.18.5)\n",
            "Requirement already satisfied: future in /usr/local/lib/python3.6/dist-packages (from nolds) (0.16.0)\n",
            "Installing collected packages: nolds\n",
            "Successfully installed nolds-0.5.2\n"
          ],
          "name": "stdout"
        }
      ]
    },
    {
      "cell_type": "code",
      "metadata": {
        "id": "Ukrciyi79984",
        "colab_type": "code",
        "outputId": "8e05b42b-208f-4bb0-bb4f-ac4339b86a86",
        "colab": {
          "base_uri": "https://localhost:8080/",
          "height": 72
        }
      },
      "source": [
        "import numbers\n",
        "import pandas as pd\n",
        "import numpy as np\n",
        "import matplotlib.pyplot as plt\n",
        "import seaborn as sns\n",
        "import nolds\n",
        "from tqdm.notebook import trange, tqdm\n",
        "\n",
        "#sns.set(style='ticks', palette='Set2')\n",
        "flatui = [\"#41b6c4\", \"#9ecae1\", \"#f768a1\", \"#c994c7\", \"#8c6bb1\", \"#41b6c4\"]\n",
        "sns.set(style='ticks', palette=sns.color_palette(flatui))\n",
        "rng = np.random.default_rng() # modern way to generate random values in numpy\n"
      ],
      "execution_count": 2,
      "outputs": [
        {
          "output_type": "stream",
          "text": [
            "/usr/local/lib/python3.6/dist-packages/statsmodels/tools/_testing.py:19: FutureWarning: pandas.util.testing is deprecated. Use the functions in the public API at pandas.testing instead.\n",
            "  import pandas.util.testing as tm\n"
          ],
          "name": "stderr"
        }
      ]
    },
    {
      "cell_type": "code",
      "metadata": {
        "id": "Ovtl9vnx2Pr5",
        "colab_type": "code",
        "colab": {}
      },
      "source": [
        "def mf_dfa(data, s_vals=None, p=1, q=2, debug_plot=False):\n",
        "    \"\"\"\n",
        "    Args:\n",
        "    data (array-like of float):\n",
        "      time series\n",
        "  Kwargs:\n",
        "    s_vals (iterable of int):\n",
        "      subseries sizes at which to calculate fluctuation\n",
        "      (default: 10 numbers spaced evenly on a log scale)\n",
        "    p (int):\n",
        "      (polynomial) order of trend to remove\n",
        "    q (float):\n",
        "      calculate the qth order fluctuation function\n",
        "    debug_plot (boolean):\n",
        "      if True, a simple plot of the final line-fitting step will be shown\n",
        "    \"\"\"\n",
        "    X = np.asarray(data)\n",
        "\n",
        "    # N: длина временного ряда\n",
        "    N = len(X)\n",
        "    \n",
        "    # s_vals: набор длин сегментов, \n",
        "    if s_vals is None or isinstance(s_vals, numbers.Real):\n",
        "        s_min = max(10, p + 1)\n",
        "        s_max = N // 4\n",
        "        s_vals = np.geomspace(s_min, s_max, num=int(s_vals or 10), dtype='int')\n",
        "        s_vals = np.unique(s_vals)\n",
        "\n",
        "    # 1-2. Глобальный профиль временного ряда\n",
        "    # ---\n",
        "    # TODO: реализовать построение глобального профиля (1 балл)\n",
        "    Xdif = X - X.mean()\n",
        "    Y = np.cumsum(Xdif, axis=None, dtype=None, out=None)\n",
        "    # ---\n",
        "    #Y = X # <put your code here>\n",
        "\n",
        "    # Для каждого значения n ...\n",
        "    F_vals = []\n",
        "    for s in s_vals:\n",
        "        \n",
        "        # 3. Разбиваем на отрезки длины s\n",
        "        Ns = N // s         # количество сегментов длины s\n",
        "        \n",
        "        \n",
        "        Y_segments = None   # двумерный массив сегментов\n",
        "        if N % s == 0:\n",
        "            # Можем точно разделить весь временной ряд на сегменты длины s\n",
        "            Y_segments = Y.copy().reshape((Ns, s))\n",
        "        \n",
        "        else:\n",
        "            # Точно разделить не получится, поэтому для учета этого остатка \n",
        "            # следует повторить процедуру деления на сегменты, \n",
        "            # начиная с противоположного конца ряда.\n",
        "            # В результате получится 2 Ns сегментов длины s\n",
        "            # ---\n",
        "            # TODO: реализовать разбиение временного ряда на сегменты\n",
        "            # сначала с левого края, потом - с правого\n",
        "            # и объединить два разбиения в один двумерный массив\n",
        "            # (1 балл)\n",
        "            Y_segments1 = Y[:N-N%s].copy().reshape((Ns, s)) \n",
        "            Y_segments2 = Y[N:N%s-1:-1].copy().reshape((Ns, s))\n",
        "            Y_segments = np.vstack((Y_segments1, Y_segments2))\n",
        "            Ns = 2*Ns\n",
        "            # ---\n",
        "            #Y_segments = Y[:N-N%s].copy().reshape((Ns, s)) # <your code here>\n",
        "        \n",
        "        # 4. Локальный тренд\n",
        "        x_local=np.arange(s)\n",
        "        for Yv in Y_segments:\n",
        "            Yv -= np.polyval(np.polyfit(x=x_local, y=Yv, deg=p), x_local)\n",
        "        \n",
        "        # 5. Дисперсия\n",
        "        mu = np.mean(Y_segments ** 2, axis=1)\n",
        "\n",
        "        # 6. Флуктуационная функция\n",
        "        Fqs = 0\n",
        "        if q == 0:\n",
        "            # отдельный случай, когда q=0\n",
        "            # ---\n",
        "            # TODO: реализовать вычисление флуктуационной функции для q = 0\n",
        "            # (1 балл)\n",
        "            Fqs = np.exp((np.log(mu).sum())/2/Ns)\n",
        "            # ---\n",
        "            #Fqs = 1.0 # <put your code here>\n",
        "            \n",
        "        else:\n",
        "            Fqs = np.power(np.mean(np.power(mu, 0.5 * q)), 1/q)\n",
        "            \n",
        "        F_vals.append(Fqs)\n",
        "        # end for loop\n",
        "    \n",
        "    F_vals = np.array(F_vals)\n",
        "    \n",
        "    # log-log line fitting\n",
        "    # здесь явно не хватает проверки на ненулевые значения для элементов F_vals\n",
        "    # ---\n",
        "    # TODO: из массива F_vals нужно выбрать ненулевые элементы,\n",
        "    # а из массива s_vals - соответствующие им значения s.\n",
        "    # После этого нужно проверить, что в массивах F_vals и s_vals\n",
        "    # осталось хотя бы по 2 значения\n",
        "    # (1 балл)\n",
        "    vals = {'s_vals': s_vals,'F_vals':  F_vals}\n",
        "    df = pd.DataFrame(vals, columns = ['s_vals','F_vals'])\n",
        "    df = df.loc[df['F_vals'] != 0]\n",
        "    \n",
        "    if len(df['F_vals']) > 1:\n",
        "    # ---\n",
        "      s_logs = np.log(df['s_vals'])\n",
        "      F_logs = np.log(df['F_vals'])\n",
        "     \n",
        "    \n",
        "      [H, C] = np.polyfit(s_logs, F_logs, deg=1)\n",
        "    \n",
        "      if debug_plot:\n",
        "          plt.loglog(s_vals, F_vals, \"bo\", label=\"qth order fluctuation function (q={})\".format(q))\n",
        "          plt.loglog(s_vals, np.exp(C)*np.power(s_vals, H), \"r-\", label=\"log-log regression line\")\n",
        "          plt.xlabel(\"log(s)\")\n",
        "          plt.ylabel(\"log(F_q(s))\")\n",
        "          plt.legend(loc=\"best\")\n",
        "          plt.show()\n",
        "          plt.close()\n",
        "\n",
        "    else:\n",
        "      H = 0\n",
        "    \n",
        "    return H"
      ],
      "execution_count": 0,
      "outputs": []
    },
    {
      "cell_type": "markdown",
      "metadata": {
        "id": "iIzodF8yn9LC",
        "colab_type": "text"
      },
      "source": [
        "Проверим на Броуновском движении"
      ]
    },
    {
      "cell_type": "code",
      "metadata": {
        "id": "-yhthIrSJTLs",
        "colab_type": "code",
        "outputId": "906b0032-a77f-4a68-8db6-567ad8b4e134",
        "colab": {
          "base_uri": "https://localhost:8080/",
          "height": 284
        }
      },
      "source": [
        "brownian_motion_ts = np.cumsum(rng.normal(size=20000))\n",
        "plt.plot(brownian_motion_ts)\n",
        "plt.title(\"Brownian Motion sample\")\n",
        "plt.show()"
      ],
      "execution_count": 4,
      "outputs": [
        {
          "output_type": "display_data",
          "data": {
            "image/png": "[encoded data removed]",
            "text/plain": [
              "<Figure size 432x288 with 1 Axes>"
            ]
          },
          "metadata": {
            "tags": []
          }
        }
      ]
    },
    {
      "cell_type": "markdown",
      "metadata": {
        "id": "W3TDYvaEsI5R",
        "colab_type": "text"
      },
      "source": [
        "Убедимся, что функция `mf_dfa` работает"
      ]
    },
    {
      "cell_type": "code",
      "metadata": {
        "id": "czL1sSkHXsAQ",
        "colab_type": "code",
        "outputId": "29be2c9c-d834-4f5a-a904-0cd797429bed",
        "colab": {
          "base_uri": "https://localhost:8080/",
          "height": 309
        }
      },
      "source": [
        "bm_H = mf_dfa(brownian_motion_ts, s_vals=20, q=0.5, debug_plot=True)\n",
        "print(\"DFA exponent for this Brownian motion sample: {}\".format(bm_H))"
      ],
      "execution_count": 5,
      "outputs": [
        {
          "output_type": "display_data",
          "data": {
            "image/png": "[encoded data removed]",
            "text/plain": [
              "<Figure size 432x288 with 1 Axes>"
            ]
          },
          "metadata": {
            "tags": []
          }
        },
        {
          "output_type": "stream",
          "text": [
            "DFA exponent for this Brownian motion sample: 1.5591560514313374\n"
          ],
          "name": "stdout"
        }
      ]
    },
    {
      "cell_type": "markdown",
      "metadata": {
        "id": "1ISPLEEFsUg-",
        "colab_type": "text"
      },
      "source": [
        "На 5 случайных реализациях Броуновского движения (10000 точек в каждой) посмотрим, как меняется скейлинговый показатель в зависимости от параметра $q$.\n",
        "\n",
        "Ожидаемый результат: ~1.5 (+/- 0.2)"
      ]
    },
    {
      "cell_type": "code",
      "metadata": {
        "id": "Cu2ci9DC1v6k",
        "colab_type": "code",
        "outputId": "8a6d1421-ca9d-4b28-d7ff-75899f5726e3",
        "colab": {
          "base_uri": "https://localhost:8080/",
          "height": 335,
          "referenced_widgets": [
            "0ca70576e3824658b3c8d174d2d7fd72",
            "9c4829e6d0ac431e9e6307c971db02b5",
            "dfd7ef5cfe404548989a8ef30b64523c",
            "a2719f0c6c4b42c79bd98f43efc0f775",
            "8fb9dbbf713542b5b456165f1b0e7127",
            "2ae9315b433f46b9ab87e571b0441fbd",
            "57f7a26028f1479b94c27d90299c14ef",
            "502f8cf937b64ad0b539ce92f4d91bae"
          ]
        }
      },
      "source": [
        "q_range = np.linspace(-10, 10, 41)          # набор значений q можно менять\n",
        "for i in trange(5, desc=\"Brownian motion\"): # 'trange' из tqdm делает красивый индикатор выполнения\n",
        "    brownian_motion_ts = np.cumsum(rng.normal(size=10000))\n",
        "    plt.plot(q_range, [mf_dfa(brownian_motion_ts, q=qi) for qi in q_range])\n",
        "plt.xlabel(\"q\")\n",
        "plt.ylabel(\"H(q)\")\n",
        "plt.show()"
      ],
      "execution_count": 0,
      "outputs": [
        {
          "output_type": "display_data",
          "data": {
            "application/vnd.jupyter.widget-view+json": {
              "model_id": "0ca70576e3824658b3c8d174d2d7fd72",
              "version_minor": 0,
              "version_major": 2
            },
            "text/plain": [
              "HBox(children=(FloatProgress(value=0.0, description='Brownian motion', max=5.0, style=ProgressStyle(descriptio…"
            ]
          },
          "metadata": {
            "tags": []
          }
        },
        {
          "output_type": "stream",
          "text": [
            "\n"
          ],
          "name": "stdout"
        },
        {
          "output_type": "display_data",
          "data": {
            "image/png": "[encoded data removed]",
            "text/plain": [
              "<Figure size 432x288 with 1 Axes>"
            ]
          },
          "metadata": {
            "tags": []
          }
        }
      ]
    },
    {
      "cell_type": "markdown",
      "metadata": {
        "id": "Q7JYadq7tZJk",
        "colab_type": "text"
      },
      "source": [
        "Пора испытать на каком-нибудь реальном примере"
      ]
    },
    {
      "cell_type": "code",
      "metadata": {
        "id": "xcKP_zuztf2M",
        "colab_type": "code",
        "colab": {}
      },
      "source": [
        "# TODO: загрузите свой временной ряд (желательно, чтобы в нём было >5000 точек)\n",
        "#data = pd.read_csv(\"FRB_H10.csv\", parse_dates=['date'], na_values='ND')\n",
        "# и запустите для него функцию mf_dfa для разных значений q\n",
        "# (как положительных, так и отризательных).\n",
        "# Является ли этот ряд мультифрактальным?\n",
        "# (6 баллов)\n",
        "\n",
        "data = pd.read_csv(\"FRB_H10.csv\", parse_dates=['date']) \n",
        "data = data[data['rate'] != 'ND']\n",
        "y = data['rate']\n",
        "y = np.asarray(data['rate'])\n",
        "ts = []\n",
        "for index in range(len(y)):\n",
        "  ts.append(float(y[index]))\n",
        "\n",
        "\n",
        "q_range = np.unique(np.concatenate((np.arange(-10., 10., 1.),np.arange(-5., 5., .5))))  # набор значений q можно выбрать другой\n",
        "DFA_vals = [mf_dfa(ts, s_vals=20, p=1, q=qi) for qi in q_range]                         # параметры s_vals и p тоже можно варьировать"
      ],
      "execution_count": 0,
      "outputs": []
    },
    {
      "cell_type": "markdown",
      "metadata": {
        "id": "3aJlMIIIw20j",
        "colab_type": "text"
      },
      "source": [
        "Визуализация результатов"
      ]
    },
    {
      "cell_type": "code",
      "metadata": {
        "id": "vAX0ipIow61t",
        "colab_type": "code",
        "outputId": "e136c27d-40a6-4d19-ef0a-b837f8033611",
        "colab": {
          "base_uri": "https://localhost:8080/",
          "height": 410
        }
      },
      "source": [
        "plt.figure(figsize=(8, 6))\n",
        "plt.plot(q_range, DFA_vals)\n",
        "plt.xlabel(\"q\")\n",
        "plt.ylabel(\"H(q)\")\n",
        "plt.title(\"Meaningful title\")\n",
        "plt.show()"
      ],
      "execution_count": 10,
      "outputs": [
        {
          "output_type": "display_data",
          "data": {
            "image/png": "[encoded data removed]",
            "text/plain": [
              "<Figure size 576x432 with 1 Axes>"
            ]
          },
          "metadata": {
            "tags": []
          }
        }
      ]
    },
    {
      "cell_type": "markdown",
      "metadata": {
        "id": "Tze8pleyxs9N",
        "colab_type": "text"
      },
      "source": [
        "Вывод: данный ряд является мультифрактальным, так как обобщенный показатель Херста значительно различается при разных q\n"
      ]
    }
  ]
}